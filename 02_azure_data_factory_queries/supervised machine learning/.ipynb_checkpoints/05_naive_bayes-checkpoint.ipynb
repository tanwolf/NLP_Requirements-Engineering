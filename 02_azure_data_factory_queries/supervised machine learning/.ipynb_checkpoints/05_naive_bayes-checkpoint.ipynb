{
 "cells": [
  {
   "cell_type": "code",
   "execution_count": 13,
   "id": "87849293-1828-4a97-acdd-d2bd2d0fa554",
   "metadata": {},
   "outputs": [],
   "source": [
    "import numpy as np\n",
    "import pandas as pd\n",
    "\n",
    "df = pd.read_csv('merged_adf_df_with_lda_topic1.csv', index_col=0)"
   ]
  },
  {
   "cell_type": "code",
   "execution_count": 14,
   "id": "97009848-21cd-4762-82b4-7fbc16a39fd9",
   "metadata": {},
   "outputs": [],
   "source": [
    "from sklearn.feature_extraction.text import TfidfVectorizer\n",
    "\n",
    "vectorizer = TfidfVectorizer(max_features=5000)\n",
    "X = vectorizer.fit_transform(df['LemmatizedQuestionBody']).toarray()\n",
    "Y = df['LDATopic']"
   ]
  },
  {
   "cell_type": "code",
   "execution_count": 15,
   "id": "4f1ccd74-69bf-495d-b668-bb9cb1ec9c04",
   "metadata": {},
   "outputs": [
    {
     "name": "stdout",
     "output_type": "stream",
     "text": [
      "              precision    recall  f1-score   support\n",
      "\n",
      "           0       0.74      0.31      0.43       412\n",
      "          11       0.81      0.97      0.88      1298\n",
      "\n",
      "    accuracy                           0.81      1710\n",
      "   macro avg       0.78      0.64      0.66      1710\n",
      "weighted avg       0.80      0.81      0.78      1710\n",
      "\n"
     ]
    }
   ],
   "source": [
    "from sklearn.model_selection import train_test_split\n",
    "from sklearn.naive_bayes import MultinomialNB\n",
    "from sklearn.metrics import classification_report\n",
    "\n",
    "X_train, X_test, Y_train, Y_test = train_test_split(X, Y, test_size = 0.2, random_state = 42)\n",
    "\n",
    "# Training the model\n",
    "nb_model = MultinomialNB()\n",
    "nb_model.fit(X_train, Y_train)\n",
    "\n",
    "# Evaluating the model\n",
    "Y_pred_nb = nb_model.predict(X_test)\n",
    "print(classification_report(Y_test, Y_pred_nb))"
   ]
  },
  {
   "cell_type": "code",
   "execution_count": 20,
   "id": "198566a5-8703-4f7b-a99f-72fa3e6c9977",
   "metadata": {},
   "outputs": [
    {
     "name": "stdout",
     "output_type": "stream",
     "text": [
      "Confusion Matrix:\n",
      "[[ 127  285]\n",
      " [  45 1253]]\n",
      "Cross-Validation Accuracy Scores: [0.78947368 0.76315789 0.80280866 0.77296665 0.7753072 ]\n",
      "Average Cross-Validation Score: 0.7807428166671799\n",
      "Examples of Incorrect Predictions:\n",
      "Predicted: 11, Actual: 0\n",
      "Predicted: 11, Actual: 0\n",
      "Predicted: 11, Actual: 0\n",
      "Predicted: 11, Actual: 0\n",
      "Predicted: 11, Actual: 0\n"
     ]
    }
   ],
   "source": [
    "from sklearn.metrics import confusion_matrix\n",
    "from sklearn.model_selection import cross_val_score\n",
    "import numpy as np\n",
    "\n",
    "# Print a confusion matrix\n",
    "print(\"Confusion Matrix:\")\n",
    "print(confusion_matrix(Y_test, Y_pred_nb))\n",
    "\n",
    "# Perform 5-fold cross-validation\n",
    "cross_val_scores = cross_val_score(nb_model, X, Y, cv=5)\n",
    "print(\"Cross-Validation Accuracy Scores:\", cross_val_scores)\n",
    "\n",
    "# Print average cross-validation score\n",
    "print(\"Average Cross-Validation Score:\", np.mean(cross_val_scores))\n",
    "\n",
    "# Convert Y_test and Y_pred_nb to numpy arrays\n",
    "Y_test_array = Y_test.to_numpy()\n",
    "Y_pred_nb_array = np.array(Y_pred_nb)\n",
    "\n",
    "# Find indices where predictions and actual values don't match\n",
    "incorrect_indices = np.where(Y_test_array != Y_pred_nb_array)[0]\n",
    "\n",
    "# Print some incorrect predictions\n",
    "print(\"Examples of Incorrect Predictions:\")\n",
    "for i in incorrect_indices[:5]:  # just look at the first 5\n",
    "    print(f\"Predicted: {Y_pred_nb_array[i]}, Actual: {Y_test_array[i]}\")"
   ]
  },
  {
   "cell_type": "code",
   "execution_count": null,
   "id": "710a72a8-3b6c-444f-bf2c-133739f161ea",
   "metadata": {},
   "outputs": [],
   "source": []
  }
 ],
 "metadata": {
  "kernelspec": {
   "display_name": "Python 3 (ipykernel)",
   "language": "python",
   "name": "python3"
  },
  "language_info": {
   "codemirror_mode": {
    "name": "ipython",
    "version": 3
   },
   "file_extension": ".py",
   "mimetype": "text/x-python",
   "name": "python",
   "nbconvert_exporter": "python",
   "pygments_lexer": "ipython3",
   "version": "3.10.10"
  }
 },
 "nbformat": 4,
 "nbformat_minor": 5
}
