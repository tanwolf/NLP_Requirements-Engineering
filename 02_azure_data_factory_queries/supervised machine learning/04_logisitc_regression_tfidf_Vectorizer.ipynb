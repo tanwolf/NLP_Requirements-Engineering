{
 "cells": [
  {
   "cell_type": "code",
   "execution_count": 1,
   "id": "b0f86eba-aa35-4122-9bb8-72790a662dc6",
   "metadata": {},
   "outputs": [],
   "source": [
    "import pandas as pd\n",
    "\n",
    "df = pd.read_csv('merged_adf_df_with_lda_topic1.csv', index_col=0)"
   ]
  },
  {
   "cell_type": "code",
   "execution_count": 2,
   "id": "652b14e8-2183-496c-bdb4-9c055aae0257",
   "metadata": {},
   "outputs": [
    {
     "name": "stdout",
     "output_type": "stream",
     "text": [
      "Classification Report:\n",
      "              precision    recall  f1-score   support\n",
      "\n",
      "           0       0.76      0.46      0.57       412\n",
      "          11       0.85      0.95      0.90      1298\n",
      "\n",
      "    accuracy                           0.83      1710\n",
      "   macro avg       0.80      0.71      0.73      1710\n",
      "weighted avg       0.83      0.83      0.82      1710\n",
      "\n"
     ]
    }
   ],
   "source": [
    "from sklearn.feature_extraction.text import TfidfVectorizer\n",
    "from sklearn.model_selection import train_test_split\n",
    "from sklearn.linear_model import LogisticRegression\n",
    "from sklearn.metrics import classification_report\n",
    "\n",
    "# Initialize a TfidfVectorizer\n",
    "vectorizer = TfidfVectorizer()\n",
    "\n",
    "# Fit the vectorizer and transform 'LemmatizedQuestionBody' into a feature matrix X\n",
    "X = vectorizer.fit_transform(df['LemmatizedQuestionBody'])\n",
    "\n",
    "# The target remains the same\n",
    "y = df['LDATopic']\n",
    "\n",
    "# Split the data into training and testing sets\n",
    "X_train, X_test, y_train, y_test = train_test_split(X, y, test_size=0.2, random_state=42)\n",
    "\n",
    "# Initialize and train a logistic regression model\n",
    "logreg = LogisticRegression(solver='lbfgs', max_iter=1000)\n",
    "logreg.fit(X_train, y_train)\n",
    "\n",
    "# Make predictions and print a classification report\n",
    "y_pred = logreg.predict(X_test)\n",
    "report = classification_report(y_test, y_pred)\n",
    "print(\"Classification Report:\")\n",
    "print(report)"
   ]
  },
  {
   "cell_type": "code",
   "execution_count": 3,
   "id": "9af9e649-9caf-4104-8166-0068a28bf581",
   "metadata": {},
   "outputs": [
    {
     "name": "stdout",
     "output_type": "stream",
     "text": [
      "Confusion Matrix:\n",
      "[[ 189  223]\n",
      " [  61 1237]]\n"
     ]
    }
   ],
   "source": [
    "from sklearn.metrics import confusion_matrix\n",
    "from sklearn.model_selection import cross_val_score\n",
    "\n",
    "# Same setup as before...\n",
    "\n",
    "# Print confusion matrix\n",
    "print(\"Confusion Matrix:\")\n",
    "print(confusion_matrix(y_test, y_pred))"
   ]
  },
  {
   "cell_type": "code",
   "execution_count": 4,
   "id": "19f20f05-7da0-472e-803f-0992cb7f57b8",
   "metadata": {},
   "outputs": [
    {
     "name": "stdout",
     "output_type": "stream",
     "text": [
      "\t-5.8374\tdataflow       \t\t3.6739\tazure          \n",
      "\t-5.4433\tflow           \t\t3.0381\tfactory        \n",
      "\t-4.3436\tfollowing      \t\t2.2479\tstorage        \n",
      "\t-3.4606\tmapping        \t\t2.1371\tservice        \n",
      "\t-3.0339\tpipeline       \t\t2.0850\tdatafactory    \n",
      "\t-2.9945\tcolumn         \t\t2.0760\tblob           \n",
      "\t-2.6066\tsink           \t\t1.8017\tfile           \n",
      "\t-2.5790\ttransformation \t\t1.6949\tadf            \n",
      "\t-2.5068\tvalue          \t\t1.6781\tactivity       \n",
      "\t-2.0134\tarray          \t\t1.6402\tserver         \n"
     ]
    }
   ],
   "source": [
    "# Feature importance\n",
    "feature_names = vectorizer.get_feature_names_out()\n",
    "coefs_with_fns = sorted(zip(logreg.coef_[0], feature_names))\n",
    "top = zip(coefs_with_fns[:10], coefs_with_fns[:-(10 + 1):-1])\n",
    "for (coef_1, fn_1), (coef_2, fn_2) in top:\n",
    "    print(\"\\t%.4f\\t%-15s\\t\\t%.4f\\t%-15s\" % (coef_1, fn_1, coef_2, fn_2))\n",
    "\n"
   ]
  },
  {
   "cell_type": "code",
   "execution_count": 5,
   "id": "f7dbec5b-67ef-4ac7-bbf5-770673ef693c",
   "metadata": {},
   "outputs": [
    {
     "name": "stdout",
     "output_type": "stream",
     "text": [
      "Cross-validation scores:  [0.82631579 0.81637427 0.82913985 0.78057343 0.82036279]\n",
      "Average cross-validation score:  0.8145532252710966\n"
     ]
    }
   ],
   "source": [
    "# Cross-validation\n",
    "scores = cross_val_score(logreg, X, y, cv=5)\n",
    "print(\"Cross-validation scores: \", scores)\n",
    "print(\"Average cross-validation score: \", scores.mean())"
   ]
  },
  {
   "cell_type": "code",
   "execution_count": null,
   "id": "036b2f90-e5a5-4cb7-9faf-eebc53aa1924",
   "metadata": {},
   "outputs": [],
   "source": []
  }
 ],
 "metadata": {
  "kernelspec": {
   "display_name": "Python 3 (ipykernel)",
   "language": "python",
   "name": "python3"
  },
  "language_info": {
   "codemirror_mode": {
    "name": "ipython",
    "version": 3
   },
   "file_extension": ".py",
   "mimetype": "text/x-python",
   "name": "python",
   "nbconvert_exporter": "python",
   "pygments_lexer": "ipython3",
   "version": "3.10.10"
  }
 },
 "nbformat": 4,
 "nbformat_minor": 5
}
