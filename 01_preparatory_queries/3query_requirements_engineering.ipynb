{
 "cells": [
  {
   "cell_type": "markdown",
   "id": "9df784b6-eb3a-416d-ac97-3c181e173509",
   "metadata": {},
   "source": [
    "**Project: NLP for Requirements Engineering Interview Transcripts**\n",
    "    \n",
    "Third SQL Query: Requirements Engineering Tags and Titles"
   ]
  },
  {
   "cell_type": "markdown",
   "id": "49cd2e73-f38b-4e00-8f7b-4925edb472e4",
   "metadata": {},
   "source": [
    "Query\n",
    "\n",
    "SELECT TOP 500\n",
    "    q.Id AS QuestionId,\n",
    "    q.Title AS QuestionTitle,\n",
    "    q.Body AS QuestionBody,\n",
    "    q.Tags AS QuestionTags,\n",
    "    q.CreationDate AS Date,\n",
    "    q.ViewCount AS ViewCount,\n",
    "    q.Score AS Score,\n",
    "    q.AnswerCount AS NumberOfAnswers,\n",
    "    a.Id AS AnswerId,\n",
    "    a.Body AS AnswerBody\n",
    "FROM \n",
    "    Posts q\n",
    "INNER JOIN \n",
    "    Posts a ON a.ParentId = q.Id\n",
    "WHERE \n",
    "    q.PostTypeId = 1\n",
    "    AND(\n",
    "        q.Tags LIKE '%<requirements>%'\n",
    "        OR q.Tags LIKE '%<software-requirements>%'\n",
    "        OR q.Tags LIKE '%<data-requirements>%'\n",
    "        OR q.Tags LIKE '%<requirement-management>%'\n",
    "        OR q.Tags LIKE '%<requirements-analysis>%'\n",
    "        OR q.Tags LIKE '%<requirements-gathering>%'\n",
    "        OR q.Tags LIKE '%<data-requirements-analysis>%'\n",
    "        OR q.Tags LIKE '%<data-requirement-management>%'\n",
    "        OR q.Tags LIKE '%<metadata-management>%'\n",
    "        OR q.Title LIKE '%software requirements%'\n",
    "        OR q.Title LIKE '%data requirements%'\n",
    "        OR q.Title LIKE '%requirement management%'\n",
    "        OR q.Title LIKE '%requirements analysis%'\n",
    "        OR q.Title LIKE '%requirements gathering%'\n",
    "        OR q.Title LIKE '%metadata management%'\n",
    "        OR q.Title LIKE '%metadata modeling%'\n",
    "    )\n",
    "    AND q.CreationDate >= '2018-01-01'\n",
    "ORDER BY \n",
    "    q.CreationDate DESC;"
   ]
  },
  {
   "cell_type": "markdown",
   "id": "83bd0be0-14f9-4ab9-ad80-1e10f5f63297",
   "metadata": {},
   "source": [
    "**Tags**\n",
    "\n",
    "requirements\n",
    "\n",
    "software-requirements\n",
    "\n",
    "data-requirements\n",
    "\n",
    "requirement-management\n",
    "\n",
    "requirements-analysis\n",
    "\n",
    "requirements-gathering\n",
    "\n",
    "data-requirements-analysis\n",
    "\n",
    "data-requirement-management\n",
    "\n",
    "metadata-management\n",
    "\n",
    "**Title**\n",
    "\n",
    "software requirements\n",
    "\n",
    "data requirements\n",
    "\n",
    "requirement management\n",
    "\n",
    "requirements analysis\n",
    "\n",
    "requirements gathering\n",
    "\n",
    "metadata management\n",
    "\n",
    "metadata modeling"
   ]
  },
  {
   "cell_type": "code",
   "execution_count": 1,
   "id": "a1de64ae-811e-43f8-8dac-1b210c6ead6b",
   "metadata": {},
   "outputs": [
    {
     "data": {
      "text/html": [
       "<style>.container { width:100% !important; }</style>"
      ],
      "text/plain": [
       "<IPython.core.display.HTML object>"
      ]
     },
     "metadata": {},
     "output_type": "display_data"
    },
    {
     "data": {
      "text/html": [
       "<style>.rendered_html { max-height: 500px; overflow-y: scroll !important; }</style>"
      ],
      "text/plain": [
       "<IPython.core.display.HTML object>"
      ]
     },
     "metadata": {},
     "output_type": "display_data"
    }
   ],
   "source": [
    "#!pip install ipython\n",
    "from IPython.display import display, HTML\n",
    "display(HTML(\"<style>.container { width:100% !important; }</style>\"))\n",
    "display(HTML(\"<style>.rendered_html { max-height: 500px; overflow-y: scroll !important; }</style>\"))"
   ]
  },
  {
   "cell_type": "markdown",
   "id": "096e3eb9-ec8e-42f9-922f-9c0bde84ef5d",
   "metadata": {},
   "source": [
    "**Combine data sets into a single one with 1000 rows**"
   ]
  },
  {
   "cell_type": "code",
   "execution_count": 2,
   "id": "ea24977d-124c-4de5-9c65-243b52e11986",
   "metadata": {},
   "outputs": [],
   "source": [
    "import pandas as pd\n",
    "\n",
    "# Load the datasets into pandas DataFrames\n",
    "df = pd.read_csv('3query_requirements_engineering.csv')\n",
    "# Join the DataFrames\n",
    "#df = pd.concat([data1, data2], ignore_index=True)\n",
    "\n",
    "# Save the combined DataFrame to a new CSV file\n",
    "#df.to_csv('df.csv', index=False)"
   ]
  },
  {
   "cell_type": "code",
   "execution_count": 3,
   "id": "aadd3547-3127-4703-95d1-09b4792bc46c",
   "metadata": {},
   "outputs": [
    {
     "data": {
      "text/plain": [
       "168"
      ]
     },
     "execution_count": 3,
     "metadata": {},
     "output_type": "execute_result"
    }
   ],
   "source": [
    "len(df)"
   ]
  },
  {
   "cell_type": "markdown",
   "id": "0ad7f4bf-aa99-429c-b8c7-0b6724516347",
   "metadata": {},
   "source": [
    "**Initial Exploration**"
   ]
  },
  {
   "cell_type": "code",
   "execution_count": 4,
   "id": "e7bb160a-faa3-48bb-b6b0-c1d32b60ef5c",
   "metadata": {},
   "outputs": [],
   "source": [
    "# Check for duplicates based on the 'QuestionId' and 'AnswerId' columns\n",
    "df_no_duplicates = df.drop_duplicates(subset=['QuestionId', 'AnswerId'])"
   ]
  },
  {
   "cell_type": "code",
   "execution_count": 5,
   "id": "89400b79-ac6f-43e7-9c73-f601cff12601",
   "metadata": {},
   "outputs": [
    {
     "data": {
      "text/plain": [
       "168"
      ]
     },
     "execution_count": 5,
     "metadata": {},
     "output_type": "execute_result"
    }
   ],
   "source": [
    "len(df_no_duplicates)"
   ]
  },
  {
   "cell_type": "code",
   "execution_count": 6,
   "id": "40d9e8a0-350f-435f-bc0f-21cc7bf28d87",
   "metadata": {},
   "outputs": [
    {
     "data": {
      "text/html": [
       "<div>\n",
       "<style scoped>\n",
       "    .dataframe tbody tr th:only-of-type {\n",
       "        vertical-align: middle;\n",
       "    }\n",
       "\n",
       "    .dataframe tbody tr th {\n",
       "        vertical-align: top;\n",
       "    }\n",
       "\n",
       "    .dataframe thead th {\n",
       "        text-align: right;\n",
       "    }\n",
       "</style>\n",
       "<table border=\"1\" class=\"dataframe\">\n",
       "  <thead>\n",
       "    <tr style=\"text-align: right;\">\n",
       "      <th></th>\n",
       "      <th>QuestionId</th>\n",
       "      <th>QuestionTitle</th>\n",
       "      <th>QuestionBody</th>\n",
       "      <th>QuestionTags</th>\n",
       "      <th>Date</th>\n",
       "      <th>ViewCount</th>\n",
       "      <th>Score</th>\n",
       "      <th>NumberOfAnswers</th>\n",
       "      <th>AnswerId</th>\n",
       "      <th>AnswerBody</th>\n",
       "    </tr>\n",
       "  </thead>\n",
       "  <tbody>\n",
       "    <tr>\n",
       "      <th>0</th>\n",
       "      <td>75698058</td>\n",
       "      <td>How to find correlation of two set of software...</td>\n",
       "      <td>&lt;p&gt;I have a thought to find correlation betwee...</td>\n",
       "      <td>&lt;machine-learning&gt;&lt;nlp&gt;</td>\n",
       "      <td>2023-03-10 15:34:07</td>\n",
       "      <td>16</td>\n",
       "      <td>0</td>\n",
       "      <td>1</td>\n",
       "      <td>75700898</td>\n",
       "      <td>&lt;p&gt;You can use many methods\\nOne of them I lik...</td>\n",
       "    </tr>\n",
       "    <tr>\n",
       "      <th>1</th>\n",
       "      <td>75137480</td>\n",
       "      <td>Use dictionaries as requirements for if statem...</td>\n",
       "      <td>&lt;p&gt;First of all, I`m sorry if I might ask this...</td>\n",
       "      <td>&lt;python-3.x&gt;&lt;dictionary&gt;&lt;if-statement&gt;&lt;require...</td>\n",
       "      <td>2023-01-16 17:09:21</td>\n",
       "      <td>38</td>\n",
       "      <td>0</td>\n",
       "      <td>1</td>\n",
       "      <td>75137627</td>\n",
       "      <td>&lt;p&gt;Is this what you're looking for?&lt;/p&gt;\\n&lt;p&gt;ED...</td>\n",
       "    </tr>\n",
       "    <tr>\n",
       "      <th>2</th>\n",
       "      <td>75111771</td>\n",
       "      <td>How to create a custom excel template for expo...</td>\n",
       "      <td>&lt;p&gt;I am trying to create a custom export templ...</td>\n",
       "      <td>&lt;java&gt;&lt;export-to-excel&gt;&lt;requirements&gt;&lt;polarion...</td>\n",
       "      <td>2023-01-13 16:13:42</td>\n",
       "      <td>72</td>\n",
       "      <td>-1</td>\n",
       "      <td>1</td>\n",
       "      <td>75113368</td>\n",
       "      <td>&lt;p&gt;To save yourself from trouble, it is easies...</td>\n",
       "    </tr>\n",
       "  </tbody>\n",
       "</table>\n",
       "</div>"
      ],
      "text/plain": [
       "   QuestionId                                      QuestionTitle   \n",
       "0    75698058  How to find correlation of two set of software...  \\\n",
       "1    75137480  Use dictionaries as requirements for if statem...   \n",
       "2    75111771  How to create a custom excel template for expo...   \n",
       "\n",
       "                                        QuestionBody   \n",
       "0  <p>I have a thought to find correlation betwee...  \\\n",
       "1  <p>First of all, I`m sorry if I might ask this...   \n",
       "2  <p>I am trying to create a custom export templ...   \n",
       "\n",
       "                                        QuestionTags                 Date   \n",
       "0                            <machine-learning><nlp>  2023-03-10 15:34:07  \\\n",
       "1  <python-3.x><dictionary><if-statement><require...  2023-01-16 17:09:21   \n",
       "2  <java><export-to-excel><requirements><polarion...  2023-01-13 16:13:42   \n",
       "\n",
       "   ViewCount  Score  NumberOfAnswers  AnswerId   \n",
       "0         16      0                1  75700898  \\\n",
       "1         38      0                1  75137627   \n",
       "2         72     -1                1  75113368   \n",
       "\n",
       "                                          AnswerBody  \n",
       "0  <p>You can use many methods\\nOne of them I lik...  \n",
       "1  <p>Is this what you're looking for?</p>\\n<p>ED...  \n",
       "2  <p>To save yourself from trouble, it is easies...  "
      ]
     },
     "execution_count": 6,
     "metadata": {},
     "output_type": "execute_result"
    }
   ],
   "source": [
    "df.head(3)"
   ]
  },
  {
   "cell_type": "code",
   "execution_count": 7,
   "id": "de7ca358-6e37-4926-88d5-3ba1c7f9a8c9",
   "metadata": {},
   "outputs": [
    {
     "data": {
      "text/html": [
       "<div>\n",
       "<style scoped>\n",
       "    .dataframe tbody tr th:only-of-type {\n",
       "        vertical-align: middle;\n",
       "    }\n",
       "\n",
       "    .dataframe tbody tr th {\n",
       "        vertical-align: top;\n",
       "    }\n",
       "\n",
       "    .dataframe thead th {\n",
       "        text-align: right;\n",
       "    }\n",
       "</style>\n",
       "<table border=\"1\" class=\"dataframe\">\n",
       "  <thead>\n",
       "    <tr style=\"text-align: right;\">\n",
       "      <th></th>\n",
       "      <th>QuestionId</th>\n",
       "      <th>QuestionTitle</th>\n",
       "      <th>QuestionBody</th>\n",
       "      <th>QuestionTags</th>\n",
       "      <th>Date</th>\n",
       "      <th>ViewCount</th>\n",
       "      <th>Score</th>\n",
       "      <th>NumberOfAnswers</th>\n",
       "      <th>AnswerId</th>\n",
       "      <th>AnswerBody</th>\n",
       "    </tr>\n",
       "  </thead>\n",
       "  <tbody>\n",
       "    <tr>\n",
       "      <th>165</th>\n",
       "      <td>49067215</td>\n",
       "      <td>Testing if a string is null</td>\n",
       "      <td>&lt;p&gt;I am pretty new in VBA and I have not yet g...</td>\n",
       "      <td>&lt;vba&gt;&lt;ms-word&gt;&lt;requirements&gt;</td>\n",
       "      <td>2018-03-02 10:25:04</td>\n",
       "      <td>30847</td>\n",
       "      <td>8</td>\n",
       "      <td>5</td>\n",
       "      <td>49069438</td>\n",
       "      <td>&lt;p&gt;As others have noted, you want to test agai...</td>\n",
       "    </tr>\n",
       "    <tr>\n",
       "      <th>166</th>\n",
       "      <td>49067215</td>\n",
       "      <td>Testing if a string is null</td>\n",
       "      <td>&lt;p&gt;I am pretty new in VBA and I have not yet g...</td>\n",
       "      <td>&lt;vba&gt;&lt;ms-word&gt;&lt;requirements&gt;</td>\n",
       "      <td>2018-03-02 10:25:04</td>\n",
       "      <td>30847</td>\n",
       "      <td>8</td>\n",
       "      <td>5</td>\n",
       "      <td>49077709</td>\n",
       "      <td>&lt;p&gt;To ensure mutual exclusivity, ask the quest...</td>\n",
       "    </tr>\n",
       "    <tr>\n",
       "      <th>167</th>\n",
       "      <td>49067215</td>\n",
       "      <td>Testing if a string is null</td>\n",
       "      <td>&lt;p&gt;I am pretty new in VBA and I have not yet g...</td>\n",
       "      <td>&lt;vba&gt;&lt;ms-word&gt;&lt;requirements&gt;</td>\n",
       "      <td>2018-03-02 10:25:04</td>\n",
       "      <td>30847</td>\n",
       "      <td>8</td>\n",
       "      <td>5</td>\n",
       "      <td>57083876</td>\n",
       "      <td>&lt;p&gt;I landed here looking for an answer to \"VBA...</td>\n",
       "    </tr>\n",
       "  </tbody>\n",
       "</table>\n",
       "</div>"
      ],
      "text/plain": [
       "     QuestionId                QuestionTitle   \n",
       "165    49067215  Testing if a string is null  \\\n",
       "166    49067215  Testing if a string is null   \n",
       "167    49067215  Testing if a string is null   \n",
       "\n",
       "                                          QuestionBody   \n",
       "165  <p>I am pretty new in VBA and I have not yet g...  \\\n",
       "166  <p>I am pretty new in VBA and I have not yet g...   \n",
       "167  <p>I am pretty new in VBA and I have not yet g...   \n",
       "\n",
       "                     QuestionTags                 Date  ViewCount  Score   \n",
       "165  <vba><ms-word><requirements>  2018-03-02 10:25:04      30847      8  \\\n",
       "166  <vba><ms-word><requirements>  2018-03-02 10:25:04      30847      8   \n",
       "167  <vba><ms-word><requirements>  2018-03-02 10:25:04      30847      8   \n",
       "\n",
       "     NumberOfAnswers  AnswerId   \n",
       "165                5  49069438  \\\n",
       "166                5  49077709   \n",
       "167                5  57083876   \n",
       "\n",
       "                                            AnswerBody  \n",
       "165  <p>As others have noted, you want to test agai...  \n",
       "166  <p>To ensure mutual exclusivity, ask the quest...  \n",
       "167  <p>I landed here looking for an answer to \"VBA...  "
      ]
     },
     "execution_count": 7,
     "metadata": {},
     "output_type": "execute_result"
    }
   ],
   "source": [
    "df.tail(3)"
   ]
  },
  {
   "cell_type": "code",
   "execution_count": 8,
   "id": "162b9b4f-c253-416b-8bf1-9faa2780f226",
   "metadata": {},
   "outputs": [
    {
     "data": {
      "text/plain": [
       "QuestionId         0\n",
       "QuestionTitle      0\n",
       "QuestionBody       0\n",
       "QuestionTags       0\n",
       "Date               0\n",
       "ViewCount          0\n",
       "Score              0\n",
       "NumberOfAnswers    0\n",
       "AnswerId           0\n",
       "AnswerBody         0\n",
       "dtype: int64"
      ]
     },
     "execution_count": 8,
     "metadata": {},
     "output_type": "execute_result"
    }
   ],
   "source": [
    "# Identify missing values:\n",
    "df.isnull().sum()\n",
    "\n",
    "# Entferne NaN_Werte falls zutreffend: df.dropna(inplace=True)"
   ]
  },
  {
   "cell_type": "code",
   "execution_count": 9,
   "id": "23b64ceb-da6c-4b1d-85a8-b837315d18c7",
   "metadata": {},
   "outputs": [],
   "source": [
    "import datetime\n",
    "# Convert the 'Date' column to a datetime object to allow for better manipulation:\n",
    "df['Date'] = pd.to_datetime(df['Date'])"
   ]
  },
  {
   "cell_type": "markdown",
   "id": "5f37d5a7-df43-4693-9fa9-9f5a427e2de3",
   "metadata": {},
   "source": [
    "**Explore the data**"
   ]
  },
  {
   "cell_type": "code",
   "execution_count": 10,
   "id": "714c18c8-f261-4d70-9bf7-f30fb7770b72",
   "metadata": {},
   "outputs": [
    {
     "name": "stdout",
     "output_type": "stream",
     "text": [
      "There are 118 unique question tags in the dataset.\n"
     ]
    }
   ],
   "source": [
    "unique_question_tags = df['QuestionTags'].nunique()\n",
    "\n",
    "print(f\"There are {unique_question_tags} unique question tags in the dataset.\")"
   ]
  },
  {
   "cell_type": "code",
   "execution_count": 11,
   "id": "9d309ae5-3f4d-4a7f-99f1-17f1c1fd3cfa",
   "metadata": {
    "scrolled": true,
    "tags": []
   },
   "outputs": [
    {
     "data": {
      "text/plain": [
       "array(['<machine-learning><nlp>',\n",
       "       '<python-3.x><dictionary><if-statement><requirements>',\n",
       "       '<java><export-to-excel><requirements><polarion><system-requirements>',\n",
       "       '<model><logic><alloy><requirements>',\n",
       "       '<python-3.x><pycharm><pytest><virtualenv><requirements>',\n",
       "       '<uml><analysis><diagram><requirements><system-requirements>',\n",
       "       '<uml><use-case><requirements><use-case-diagram>',\n",
       "       '<python><dependencies><python-packaging><requirements>',\n",
       "       '<performance><time><execution-time><requirements><ibm-doors>',\n",
       "       '<kivy><apk><kivymd><buildozer><requirements>',\n",
       "       '<uml><software-design><use-case><requirements><use-case-diagram>',\n",
       "       '<pip><conda><requirements>',\n",
       "       '<api><web-services><requirements><siemens><polarion>',\n",
       "       '<android><google-play><requirements>',\n",
       "       '<python-3.x><dependencies><artifactory><pypi><requirements>',\n",
       "       '<python><pip><python-venv><requirements>',\n",
       "       '<python-3.x><pip><requirements>',\n",
       "       '<python><conda><requirements><conda-build>',\n",
       "       '<python><requirements>',\n",
       "       '<python><python-3.x><protocol-buffers><requirements>',\n",
       "       '<doxygen><specifications><requirements>',\n",
       "       '<python><pip><anaconda><conda><requirements>',\n",
       "       '<architecture><requirements>',\n",
       "       '<regex><expression><wildcard><maxlength><requirements>',\n",
       "       '<user-interface><drag-and-drop><requirements><user-stories>',\n",
       "       '<heroku><deployment><time-series><requirements><facebook-prophet>',\n",
       "       '<python><pip><requirements>', '<regex><requirements>',\n",
       "       '<scripting><ibm-cloud><requirements><ibm-doors>',\n",
       "       '<python><django><heroku><pip><requirements>',\n",
       "       '<python-3.x><github><heroku><requirements>',\n",
       "       '<uml><diagram><use-case><requirements><use-case-diagram>',\n",
       "       '<python><package><google-colaboratory><python-import><requirements>',\n",
       "       '<uml><use-case><requirements><scenarios><use-case-diagram>',\n",
       "       '<python><git><gitlab><virtualenv><requirements>',\n",
       "       '<c#><.net><requirements>', '<python><python-3.x><requirements>',\n",
       "       '<php><routes><conditional-statements><symfony4><requirements>',\n",
       "       '<rust><parameters><unsafe><requirements>',\n",
       "       '<python-packaging><requirements><python-poetry>',\n",
       "       '<uml><requirements><state-diagram>',\n",
       "       '<python><docker><dependencies><requirements><pipfile>',\n",
       "       '<uml><terminology><use-case><requirements><scenarios>',\n",
       "       '<javascript><testing><dynamic><testcafe><requirements>',\n",
       "       '<design-patterns><microservices><event-sourcing>',\n",
       "       '<python><tensorflow><requirements>',\n",
       "       '<java><osgi><requirements><capability>',\n",
       "       '<c><constraints><compiler-warnings><requirements>',\n",
       "       '<python><pipenv><requirements><pipfile>',\n",
       "       '<uber-api><requirements><system-requirements>',\n",
       "       '<c><optimization><floating-point><ieee-754><requirements>',\n",
       "       '<c#><api><rest><alm><requirements>',\n",
       "       '<operating-system><version><spyder><requirements>',\n",
       "       '<subset><modeling><alloy><requirements>',\n",
       "       '<task><project-management><use-case><requirements><waterfall>',\n",
       "       '<.net><entity-framework-core><requirements>',\n",
       "       '<requirements><ibm-doors><ibm-rational><requirements-management>',\n",
       "       '<python><macos><pip><virtualenv><requirements>', '<php>',\n",
       "       '<python-3.x><docker><google-cloud-platform><requirements>',\n",
       "       '<python><heroku><bots><discord.py><requirements>',\n",
       "       '<uml><state-machine><requirements><state-diagram><system-analysis>',\n",
       "       '<python><docker><caching><pip><requirements>',\n",
       "       '<opencv><camera><ip><requirements>', '<requirements>',\n",
       "       '<python><import><dependencies><requirements>',\n",
       "       '<python><google-cloud-dataflow><dataflow><requirements>',\n",
       "       '<software-design><use-case><requirements><use-case-diagram>',\n",
       "       '<python><path><pip><command><requirements>',\n",
       "       '<python><python-requests><kivy><buildozer><requirements>',\n",
       "       '<requirements><sysml>', '<python><django><migrate><requirements>',\n",
       "       '<python><pip><requirements><pyc>',\n",
       "       '<python><docker><numpy><scipy><requirements>',\n",
       "       '<uml><actor><use-case><requirements>',\n",
       "       '<django><python-3.x><psycopg2><requirements>',\n",
       "       '<python><pytorch><requirements><faster-rcnn><conflicting-libraries>',\n",
       "       '<android><ios><react-native>',\n",
       "       '<requirements><np><np-hard><requirements-management>',\n",
       "       '<uml><modeling><use-case><requirements><use-case-diagram>',\n",
       "       '<uml><requirements><sysml><requirements-management>',\n",
       "       '<requirements><ibm-doors>',\n",
       "       '<report><enterprise-architect><requirements>',\n",
       "       '<python><python-2.7><server><package><requirements>',\n",
       "       '<testing><bdd><requirements>',\n",
       "       '<requirements><uptime><service-level-agreement>',\n",
       "       '<testing><automation><bdd><requirements>',\n",
       "       '<javascript><enterprise-architect><requirements>',\n",
       "       '<javascript><automation><mocha.js><jira><requirements>',\n",
       "       '<jquery><ios><cordova><itunes><requirements>',\n",
       "       '<c++><standards><requirements>',\n",
       "       '<java><android><android-studio><google-play><requirements>',\n",
       "       '<python><versioning><requirements>',\n",
       "       '<module><one-to-many><linkage><requirements><ibm-doors>',\n",
       "       '<scripting><requirements><ibm-doors>',\n",
       "       '<web-applications><requirements>',\n",
       "       '<python><requirements><amazon-sagemaker>',\n",
       "       '<c><doxygen><requirements>',\n",
       "       '<requirements><configuration-management><ibm-doors>',\n",
       "       '<uml><software-design><requirements>',\n",
       "       '<c#><asp.net-core><policy><requirements><authorize-attribute>',\n",
       "       '<classification><requirements>', '<agile><requirements>',\n",
       "       '<requirements><requirements-management>',\n",
       "       '<sharepoint><tfs><documentation><requirements>',\n",
       "       '<compilation><rust><requirements>',\n",
       "       '<c++><c++17><variant><requirements>',\n",
       "       '<java><jar><resources><packaging><requirements>',\n",
       "       '<xcode><xcode10>', '<tree><azure-devops><requirements><workitem>',\n",
       "       '<swift><protocols><conflict><requirements><dependency-inversion>',\n",
       "       '<installation><drupal-8><requirements>',\n",
       "       '<windows><pip><scikit-image><requirements>',\n",
       "       '<python><proxy><pip><conda><requirements>',\n",
       "       '<python><flask><pip><ibm-cloud><requirements>',\n",
       "       '<mongodb><performance><mongodb-query><requirements>',\n",
       "       '<android-camera><requirements><arcore>',\n",
       "       '<vba><ms-word><requirements>'], dtype=object)"
      ]
     },
     "execution_count": 11,
     "metadata": {},
     "output_type": "execute_result"
    }
   ],
   "source": [
    "# Show unique question tags\n",
    "df['QuestionTags'].unique()"
   ]
  },
  {
   "cell_type": "code",
   "execution_count": 12,
   "id": "700c35d6-e9cc-4222-931f-c3a6b1d49cf1",
   "metadata": {},
   "outputs": [
    {
     "data": {
      "text/plain": [
       "QuestionTags\n",
       "<vba><ms-word><requirements>                                        5\n",
       "<python><requirements>                                              5\n",
       "<uml><use-case><requirements><use-case-diagram>                     4\n",
       "<python><git><gitlab><virtualenv><requirements>                     4\n",
       "<requirements>                                                      3\n",
       "<uml><software-design><use-case><requirements><use-case-diagram>    3\n",
       "<uml><modeling><use-case><requirements><use-case-diagram>           3\n",
       "<java><osgi><requirements><capability>                              3\n",
       "<uml><diagram><use-case><requirements><use-case-diagram>            3\n",
       "<compilation><rust><requirements>                                   3\n",
       "<python><flask><pip><ibm-cloud><requirements>                       2\n",
       "<c><optimization><floating-point><ieee-754><requirements>           2\n",
       "<uml><use-case><requirements><scenarios><use-case-diagram>          2\n",
       "<module><one-to-many><linkage><requirements><ibm-doors>             2\n",
       "<python><proxy><pip><conda><requirements>                           2\n",
       "<javascript><testing><dynamic><testcafe><requirements>              2\n",
       "<testing><automation><bdd><requirements>                            2\n",
       "<c><constraints><compiler-warnings><requirements>                   2\n",
       "<.net><entity-framework-core><requirements>                         2\n",
       "<subset><modeling><alloy><requirements>                             2\n",
       "Name: count, dtype: int64"
      ]
     },
     "execution_count": 12,
     "metadata": {},
     "output_type": "execute_result"
    }
   ],
   "source": [
    "df['QuestionTags'].value_counts().head(20)"
   ]
  },
  {
   "cell_type": "code",
   "execution_count": 13,
   "id": "db2da299-a724-4ed5-9558-47f0b6584127",
   "metadata": {},
   "outputs": [
    {
     "data": {
      "text/plain": [
       "count                              168\n",
       "unique                             118\n",
       "top       <vba><ms-word><requirements>\n",
       "freq                                 5\n",
       "Name: QuestionTags, dtype: object"
      ]
     },
     "execution_count": 13,
     "metadata": {},
     "output_type": "execute_result"
    }
   ],
   "source": [
    "df['QuestionTags'].describe()"
   ]
  },
  {
   "cell_type": "code",
   "execution_count": 14,
   "id": "ad3a5509-eac6-4241-a5d8-1b12b9aa9aba",
   "metadata": {},
   "outputs": [
    {
     "name": "stdout",
     "output_type": "stream",
     "text": [
      "There are 128 unique questions in the dataset.\n"
     ]
    }
   ],
   "source": [
    "# Count the number of unique questions in the dataset\n",
    "unique_questions_count = df['QuestionId'].nunique()\n",
    "\n",
    "print(f\"There are {unique_questions_count} unique questions in the dataset.\")"
   ]
  },
  {
   "cell_type": "code",
   "execution_count": 15,
   "id": "edd6d531-3e1c-43fa-8282-50d2ecd89fd3",
   "metadata": {},
   "outputs": [
    {
     "name": "stdout",
     "output_type": "stream",
     "text": [
      "There are 168 unique answers in the dataset.\n"
     ]
    }
   ],
   "source": [
    "unique_answers_count = df['AnswerId'].nunique()\n",
    "print(f'There are {unique_answers_count} unique answers in the dataset.')"
   ]
  },
  {
   "cell_type": "code",
   "execution_count": 16,
   "id": "951cc502-d17d-419d-a0a5-f8f0fdcd6e3c",
   "metadata": {},
   "outputs": [
    {
     "data": {
      "text/html": [
       "<div>\n",
       "<style scoped>\n",
       "    .dataframe tbody tr th:only-of-type {\n",
       "        vertical-align: middle;\n",
       "    }\n",
       "\n",
       "    .dataframe tbody tr th {\n",
       "        vertical-align: top;\n",
       "    }\n",
       "\n",
       "    .dataframe thead th {\n",
       "        text-align: right;\n",
       "    }\n",
       "</style>\n",
       "<table border=\"1\" class=\"dataframe\">\n",
       "  <thead>\n",
       "    <tr style=\"text-align: right;\">\n",
       "      <th></th>\n",
       "      <th>QuestionId</th>\n",
       "      <th>Date</th>\n",
       "      <th>ViewCount</th>\n",
       "      <th>Score</th>\n",
       "      <th>NumberOfAnswers</th>\n",
       "      <th>AnswerId</th>\n",
       "    </tr>\n",
       "  </thead>\n",
       "  <tbody>\n",
       "    <tr>\n",
       "      <th>count</th>\n",
       "      <td>1.680000e+02</td>\n",
       "      <td>168</td>\n",
       "      <td>168.000000</td>\n",
       "      <td>168.000000</td>\n",
       "      <td>168.000000</td>\n",
       "      <td>1.680000e+02</td>\n",
       "    </tr>\n",
       "    <tr>\n",
       "      <th>mean</th>\n",
       "      <td>6.315414e+07</td>\n",
       "      <td>2020-08-29 15:29:07.035714304</td>\n",
       "      <td>2033.267857</td>\n",
       "      <td>1.208333</td>\n",
       "      <td>1.619048</td>\n",
       "      <td>6.354050e+07</td>\n",
       "    </tr>\n",
       "    <tr>\n",
       "      <th>min</th>\n",
       "      <td>4.906722e+07</td>\n",
       "      <td>2018-03-02 10:25:04</td>\n",
       "      <td>16.000000</td>\n",
       "      <td>-3.000000</td>\n",
       "      <td>1.000000</td>\n",
       "      <td>4.906734e+07</td>\n",
       "    </tr>\n",
       "    <tr>\n",
       "      <th>25%</th>\n",
       "      <td>5.741469e+07</td>\n",
       "      <td>2019-08-08 14:15:21</td>\n",
       "      <td>90.000000</td>\n",
       "      <td>0.000000</td>\n",
       "      <td>1.000000</td>\n",
       "      <td>5.795032e+07</td>\n",
       "    </tr>\n",
       "    <tr>\n",
       "      <th>50%</th>\n",
       "      <td>6.319596e+07</td>\n",
       "      <td>2020-08-01 04:52:41.500000</td>\n",
       "      <td>258.000000</td>\n",
       "      <td>0.000000</td>\n",
       "      <td>1.000000</td>\n",
       "      <td>6.354186e+07</td>\n",
       "    </tr>\n",
       "    <tr>\n",
       "      <th>75%</th>\n",
       "      <td>7.036138e+07</td>\n",
       "      <td>2021-12-15 13:51:51.500000</td>\n",
       "      <td>1342.000000</td>\n",
       "      <td>2.000000</td>\n",
       "      <td>2.000000</td>\n",
       "      <td>7.045386e+07</td>\n",
       "    </tr>\n",
       "    <tr>\n",
       "      <th>max</th>\n",
       "      <td>7.569806e+07</td>\n",
       "      <td>2023-03-10 15:34:07</td>\n",
       "      <td>30847.000000</td>\n",
       "      <td>13.000000</td>\n",
       "      <td>5.000000</td>\n",
       "      <td>7.570090e+07</td>\n",
       "    </tr>\n",
       "    <tr>\n",
       "      <th>std</th>\n",
       "      <td>7.765897e+06</td>\n",
       "      <td>NaN</td>\n",
       "      <td>5828.681915</td>\n",
       "      <td>2.485537</td>\n",
       "      <td>0.920879</td>\n",
       "      <td>7.648003e+06</td>\n",
       "    </tr>\n",
       "  </tbody>\n",
       "</table>\n",
       "</div>"
      ],
      "text/plain": [
       "         QuestionId                           Date     ViewCount       Score   \n",
       "count  1.680000e+02                            168    168.000000  168.000000  \\\n",
       "mean   6.315414e+07  2020-08-29 15:29:07.035714304   2033.267857    1.208333   \n",
       "min    4.906722e+07            2018-03-02 10:25:04     16.000000   -3.000000   \n",
       "25%    5.741469e+07            2019-08-08 14:15:21     90.000000    0.000000   \n",
       "50%    6.319596e+07     2020-08-01 04:52:41.500000    258.000000    0.000000   \n",
       "75%    7.036138e+07     2021-12-15 13:51:51.500000   1342.000000    2.000000   \n",
       "max    7.569806e+07            2023-03-10 15:34:07  30847.000000   13.000000   \n",
       "std    7.765897e+06                            NaN   5828.681915    2.485537   \n",
       "\n",
       "       NumberOfAnswers      AnswerId  \n",
       "count       168.000000  1.680000e+02  \n",
       "mean          1.619048  6.354050e+07  \n",
       "min           1.000000  4.906734e+07  \n",
       "25%           1.000000  5.795032e+07  \n",
       "50%           1.000000  6.354186e+07  \n",
       "75%           2.000000  7.045386e+07  \n",
       "max           5.000000  7.570090e+07  \n",
       "std           0.920879  7.648003e+06  "
      ]
     },
     "execution_count": 16,
     "metadata": {},
     "output_type": "execute_result"
    }
   ],
   "source": [
    "# Examine the basic statistics of the dataset:\n",
    "df.describe()"
   ]
  },
  {
   "cell_type": "code",
   "execution_count": 17,
   "id": "ad80b8da-180c-401f-9006-41e9bcc4035a",
   "metadata": {},
   "outputs": [
    {
     "data": {
      "image/png": "[encoded data removed]",
      "text/plain": [
       "<Figure size 640x480 with 1 Axes>"
      ]
     },
     "metadata": {},
     "output_type": "display_data"
    }
   ],
   "source": [
    "# Analyze the most common tags:\n",
    "from collections import Counter\n",
    "import matplotlib.pyplot as plt\n",
    "import seaborn as sns\n",
    "tags = df['QuestionTags'].str.findall('<(.*?)>').explode().values\n",
    "tag_counts = Counter(tags)\n",
    "most_common_tags = tag_counts.most_common(20)\n",
    "\n",
    "plt.barh([tag for tag, _ in most_common_tags], [count for _, count in most_common_tags])\n",
    "plt.xlabel('Frequency')\n",
    "plt.ylabel('Tags')\n",
    "plt.title('Top 20 Most Common Tags')\n",
    "plt.show()"
   ]
  },
  {
   "cell_type": "code",
   "execution_count": 18,
   "id": "bffc034c-95df-4c76-bc24-19e4a36910d5",
   "metadata": {},
   "outputs": [
    {
     "data": {
      "image/png": "[encoded data removed]",
      "text/plain": [
       "<Figure size 640x480 with 1 Axes>"
      ]
     },
     "metadata": {},
     "output_type": "display_data"
    },
    {
     "data": {
      "image/png": "[encoded data removed]",
      "text/plain": [
       "<Figure size 640x480 with 1 Axes>"
      ]
     },
     "metadata": {},
     "output_type": "display_data"
    },
    {
     "data": {
      "image/png": "[encoded data removed]",
      "text/plain": [
       "<Figure size 640x480 with 1 Axes>"
      ]
     },
     "metadata": {},
     "output_type": "display_data"
    }
   ],
   "source": [
    "# Visualize the distribution of ViewCount, Score, and NumberOfAnswers:\n",
    "#!pip install seaborn\n",
    "\n",
    "sns.histplot(data=df, x='ViewCount', bins=30)\n",
    "plt.show()\n",
    "\n",
    "sns.histplot(data=df, x='Score', bins=30)\n",
    "plt.show()\n",
    "\n",
    "sns.histplot(data=df, x='NumberOfAnswers', bins=30)\n",
    "plt.show()"
   ]
  },
  {
   "cell_type": "code",
   "execution_count": 19,
   "id": "5b701ba9-bd33-45dc-b25b-e9ad5936431e",
   "metadata": {},
   "outputs": [
    {
     "data": {
      "image/png": "[encoded data removed]",
      "text/plain": [
       "<Figure size 640x480 with 1 Axes>"
      ]
     },
     "metadata": {},
     "output_type": "display_data"
    }
   ],
   "source": [
    "# Analyze the distribution of questions over time:\n",
    "\n",
    "df['YearMonth'] = df['Date'].dt.to_period('M')\n",
    "\n",
    "question_count_by_month = df.groupby('YearMonth')['QuestionId'].nunique()\n",
    "question_count_by_month.plot()\n",
    "plt.xlabel('Year-Month')\n",
    "plt.ylabel('Number of Questions')\n",
    "plt.title('Number of Questions by Month')\n",
    "plt.show()"
   ]
  },
  {
   "cell_type": "markdown",
   "id": "581a7737-25e8-4733-ae24-a0ce3e68661e",
   "metadata": {},
   "source": [
    "**NLP-Pre-Processing**\n",
    "\n",
    "**_always:_** lowercasing, removal of non-alphanumeric characters\n",
    "\n",
    "**_depends_** on task and corpus:* stopwords removal, lemmatization (for spaCy stopwords have to be removed)"
   ]
  },
  {
   "cell_type": "markdown",
   "id": "2425707e-5674-48cf-afb0-3f9cd3e48cdf",
   "metadata": {},
   "source": [
    "Using BeautifulSoup to clean the question and answer body is helpful because it helps remove any HTML tags present in the text. The Stack Overflow dataset often contains text with HTML tags. \n",
    "\n",
    "These tags don't provide any valuable information for most NLP tasks and can be considered noise in the text data."
   ]
  },
  {
   "cell_type": "code",
   "execution_count": 20,
   "id": "e8769fcd-761e-492a-96f6-83c1a492c6cc",
   "metadata": {},
   "outputs": [],
   "source": [
    "from bs4 import BeautifulSoup\n",
    "\n",
    "df['CleanedQuestionBody'] = df['QuestionBody'].apply(lambda x: BeautifulSoup(x, 'html.parser').get_text())\n",
    "df['CleanedAnswerBody'] = df['AnswerBody'].apply(lambda x: BeautifulSoup(x, 'html.parser').get_text())"
   ]
  },
  {
   "cell_type": "code",
   "execution_count": 42,
   "id": "e454bb91-b716-4713-95b9-60f0b33e5761",
   "metadata": {},
   "outputs": [],
   "source": [
    "# Remove any unnecessary characters, such as punctuation, numbers, or extra whitespace, \n",
    "# and convert the text to lowercase:\n",
    "\n",
    "import re\n",
    "\n",
    "def clean_text(text):\n",
    "    text = re.sub(r'\\W+', ' ', text)  # Remove non-word characters\n",
    "    text = re.sub(r'\\d+', ' ', text)  # Remove digits\n",
    "    text = text.lower().strip()  # Convert to lowercase and remove leading/trailing whitespace\n",
    "    text = text.replace('<code>', '').replace('</code>', '')  # Remove <code> tags\n",
    "    return text\n",
    "\n",
    "df['CleanedQuestionBody'] = df['CleanedQuestionBody'].apply(clean_text)\n",
    "df['CleanedAnswerBody'] = df['CleanedAnswerBody'].apply(clean_text)"
   ]
  },
  {
   "cell_type": "code",
   "execution_count": 22,
   "id": "165c8368-fdfd-4db2-a8e1-ef35182aff74",
   "metadata": {},
   "outputs": [],
   "source": [
    "# Extract tags from 'QuestionTags' column and store them in extra column:\n",
    "df['Tags'] = df['QuestionTags'].str.findall('<(.*?)>')"
   ]
  },
  {
   "cell_type": "code",
   "execution_count": 23,
   "id": "bb8ee353-1b11-4420-86a0-a681fc4e3e49",
   "metadata": {},
   "outputs": [
    {
     "data": {
      "text/html": [
       "<div>\n",
       "<style scoped>\n",
       "    .dataframe tbody tr th:only-of-type {\n",
       "        vertical-align: middle;\n",
       "    }\n",
       "\n",
       "    .dataframe tbody tr th {\n",
       "        vertical-align: top;\n",
       "    }\n",
       "\n",
       "    .dataframe thead th {\n",
       "        text-align: right;\n",
       "    }\n",
       "</style>\n",
       "<table border=\"1\" class=\"dataframe\">\n",
       "  <thead>\n",
       "    <tr style=\"text-align: right;\">\n",
       "      <th></th>\n",
       "      <th>QuestionId</th>\n",
       "      <th>QuestionTitle</th>\n",
       "      <th>QuestionBody</th>\n",
       "      <th>QuestionTags</th>\n",
       "      <th>Date</th>\n",
       "      <th>ViewCount</th>\n",
       "      <th>Score</th>\n",
       "      <th>NumberOfAnswers</th>\n",
       "      <th>AnswerId</th>\n",
       "      <th>AnswerBody</th>\n",
       "      <th>YearMonth</th>\n",
       "      <th>CleanedQuestionBody</th>\n",
       "      <th>CleanedAnswerBody</th>\n",
       "      <th>Tags</th>\n",
       "    </tr>\n",
       "  </thead>\n",
       "  <tbody>\n",
       "    <tr>\n",
       "      <th>0</th>\n",
       "      <td>75698058</td>\n",
       "      <td>How to find correlation of two set of software...</td>\n",
       "      <td>&lt;p&gt;I have a thought to find correlation betwee...</td>\n",
       "      <td>&lt;machine-learning&gt;&lt;nlp&gt;</td>\n",
       "      <td>2023-03-10 15:34:07</td>\n",
       "      <td>16</td>\n",
       "      <td>0</td>\n",
       "      <td>1</td>\n",
       "      <td>75700898</td>\n",
       "      <td>&lt;p&gt;You can use many methods\\nOne of them I lik...</td>\n",
       "      <td>2023-03</td>\n",
       "      <td>i have a thought to find correlation between g...</td>\n",
       "      <td>you can use many methods one of them i like is...</td>\n",
       "      <td>[machine-learning, nlp]</td>\n",
       "    </tr>\n",
       "    <tr>\n",
       "      <th>1</th>\n",
       "      <td>75137480</td>\n",
       "      <td>Use dictionaries as requirements for if statem...</td>\n",
       "      <td>&lt;p&gt;First of all, I`m sorry if I might ask this...</td>\n",
       "      <td>&lt;python-3.x&gt;&lt;dictionary&gt;&lt;if-statement&gt;&lt;require...</td>\n",
       "      <td>2023-01-16 17:09:21</td>\n",
       "      <td>38</td>\n",
       "      <td>0</td>\n",
       "      <td>1</td>\n",
       "      <td>75137627</td>\n",
       "      <td>&lt;p&gt;Is this what you're looking for?&lt;/p&gt;\\n&lt;p&gt;ED...</td>\n",
       "      <td>2023-01</td>\n",
       "      <td>first of all i m sorry if i might ask this que...</td>\n",
       "      <td>is this what you re looking for edit import nu...</td>\n",
       "      <td>[python-3.x, dictionary, if-statement, require...</td>\n",
       "    </tr>\n",
       "    <tr>\n",
       "      <th>2</th>\n",
       "      <td>75111771</td>\n",
       "      <td>How to create a custom excel template for expo...</td>\n",
       "      <td>&lt;p&gt;I am trying to create a custom export templ...</td>\n",
       "      <td>&lt;java&gt;&lt;export-to-excel&gt;&lt;requirements&gt;&lt;polarion...</td>\n",
       "      <td>2023-01-13 16:13:42</td>\n",
       "      <td>72</td>\n",
       "      <td>-1</td>\n",
       "      <td>1</td>\n",
       "      <td>75113368</td>\n",
       "      <td>&lt;p&gt;To save yourself from trouble, it is easies...</td>\n",
       "      <td>2023-01</td>\n",
       "      <td>i am trying to create a custom export template...</td>\n",
       "      <td>to save yourself from trouble it is easiest to...</td>\n",
       "      <td>[java, export-to-excel, requirements, polarion...</td>\n",
       "    </tr>\n",
       "  </tbody>\n",
       "</table>\n",
       "</div>"
      ],
      "text/plain": [
       "   QuestionId                                      QuestionTitle   \n",
       "0    75698058  How to find correlation of two set of software...  \\\n",
       "1    75137480  Use dictionaries as requirements for if statem...   \n",
       "2    75111771  How to create a custom excel template for expo...   \n",
       "\n",
       "                                        QuestionBody   \n",
       "0  <p>I have a thought to find correlation betwee...  \\\n",
       "1  <p>First of all, I`m sorry if I might ask this...   \n",
       "2  <p>I am trying to create a custom export templ...   \n",
       "\n",
       "                                        QuestionTags                Date   \n",
       "0                            <machine-learning><nlp> 2023-03-10 15:34:07  \\\n",
       "1  <python-3.x><dictionary><if-statement><require... 2023-01-16 17:09:21   \n",
       "2  <java><export-to-excel><requirements><polarion... 2023-01-13 16:13:42   \n",
       "\n",
       "   ViewCount  Score  NumberOfAnswers  AnswerId   \n",
       "0         16      0                1  75700898  \\\n",
       "1         38      0                1  75137627   \n",
       "2         72     -1                1  75113368   \n",
       "\n",
       "                                          AnswerBody YearMonth   \n",
       "0  <p>You can use many methods\\nOne of them I lik...   2023-03  \\\n",
       "1  <p>Is this what you're looking for?</p>\\n<p>ED...   2023-01   \n",
       "2  <p>To save yourself from trouble, it is easies...   2023-01   \n",
       "\n",
       "                                 CleanedQuestionBody   \n",
       "0  i have a thought to find correlation between g...  \\\n",
       "1  first of all i m sorry if i might ask this que...   \n",
       "2  i am trying to create a custom export template...   \n",
       "\n",
       "                                   CleanedAnswerBody   \n",
       "0  you can use many methods one of them i like is...  \\\n",
       "1  is this what you re looking for edit import nu...   \n",
       "2  to save yourself from trouble it is easiest to...   \n",
       "\n",
       "                                                Tags  \n",
       "0                            [machine-learning, nlp]  \n",
       "1  [python-3.x, dictionary, if-statement, require...  \n",
       "2  [java, export-to-excel, requirements, polarion...  "
      ]
     },
     "execution_count": 23,
     "metadata": {},
     "output_type": "execute_result"
    }
   ],
   "source": [
    "df.head(3)"
   ]
  },
  {
   "cell_type": "code",
   "execution_count": 24,
   "id": "bbb9d773-86ad-48a9-aed9-34e66b63140f",
   "metadata": {},
   "outputs": [
    {
     "name": "stdout",
     "output_type": "stream",
     "text": [
      "Index(['QuestionId', 'QuestionTitle', 'QuestionBody', 'QuestionTags', 'Date',\n",
      "       'ViewCount', 'Score', 'NumberOfAnswers', 'AnswerId', 'AnswerBody',\n",
      "       'YearMonth', 'CleanedQuestionBody', 'CleanedAnswerBody', 'Tags'],\n",
      "      dtype='object')\n"
     ]
    }
   ],
   "source": [
    "column_names = df.columns\n",
    "print(column_names)"
   ]
  },
  {
   "cell_type": "code",
   "execution_count": 25,
   "id": "7866837c-222d-49ef-bcc7-14f537b9d681",
   "metadata": {},
   "outputs": [],
   "source": [
    "# Tokenization (split text into individual words):\n",
    "from nltk.tokenize import word_tokenize\n",
    "\n",
    "df['TokenizedQuestionBody'] = df['CleanedQuestionBody'].apply(word_tokenize)\n",
    "df['TokenizedAnswerBody'] = df['CleanedAnswerBody'].apply(word_tokenize)"
   ]
  },
  {
   "cell_type": "code",
   "execution_count": 26,
   "id": "ca781f49-2a4b-4e9f-8c25-e5b242ef5588",
   "metadata": {},
   "outputs": [],
   "source": [
    "from nltk.stem import WordNetLemmatizer\n",
    "\n",
    "lemmatizer = WordNetLemmatizer()\n",
    "\n",
    "def lemmatize_tokens(tokens):\n",
    "    return [lemmatizer.lemmatize(word) for word in tokens]\n",
    "\n",
    "df['LemmatizedQuestionBody'] = df['TokenizedQuestionBody'].apply(lemmatize_tokens)\n",
    "df['LemmatizedAnswerBody'] = df['TokenizedAnswerBody'].apply(lemmatize_tokens)"
   ]
  },
  {
   "cell_type": "code",
   "execution_count": 27,
   "id": "b90703da-6837-4563-8d7c-b51520f9e6e2",
   "metadata": {},
   "outputs": [],
   "source": [
    "# Remove stopwords from the 'LemmatizedQuestionBody' column:\n",
    "\n",
    "from nltk.corpus import stopwords\n",
    "\n",
    "stop_words = set(stopwords.words('english'))\n",
    "\n",
    "def remove_stopwords(tokens):\n",
    "    return [word for word in tokens if word not in stop_words]\n",
    "\n",
    "df['LemmatizedQuestionBody'] = df['LemmatizedQuestionBody'].apply(remove_stopwords)"
   ]
  },
  {
   "cell_type": "code",
   "execution_count": 28,
   "id": "063b2cdb-93da-42a3-875f-d0b782fa32dd",
   "metadata": {},
   "outputs": [
    {
     "name": "stdout",
     "output_type": "stream",
     "text": [
      "Index(['QuestionId', 'QuestionTitle', 'QuestionBody', 'QuestionTags', 'Date',\n",
      "       'ViewCount', 'Score', 'NumberOfAnswers', 'AnswerId', 'AnswerBody',\n",
      "       'YearMonth', 'CleanedQuestionBody', 'CleanedAnswerBody', 'Tags',\n",
      "       'TokenizedQuestionBody', 'TokenizedAnswerBody',\n",
      "       'LemmatizedQuestionBody', 'LemmatizedAnswerBody'],\n",
      "      dtype='object')\n"
     ]
    }
   ],
   "source": [
    "# Show if new columns were added\n",
    "column_names = df.columns\n",
    "print(column_names)"
   ]
  },
  {
   "cell_type": "markdown",
   "id": "42824996-9281-4a25-9693-85bf43500484",
   "metadata": {},
   "source": [
    "**Preprocess and analyze with spaCy**"
   ]
  },
  {
   "cell_type": "code",
   "execution_count": 29,
   "id": "7039defd-e807-40c8-afce-720a8448298f",
   "metadata": {},
   "outputs": [],
   "source": [
    "# remove <code> and </code> tags, which are commonly used \n",
    "# in Stack Overflow posts to denote code snippets. \n",
    "def preprocess_text(text):\n",
    "    if isinstance(text, list):\n",
    "        text = ' '.join(text)  # Convert the list to a string by joining its elements\n",
    "        #text = re.sub(r'\\W+', ' ', text)  # Remove non-word characters\n",
    "        #text = re.sub(r'\\d+', ' ', text)  # Remove digits\n",
    "        #text = text.lower().strip()  # Convert to lowercase and remove leading/trailing whitespace\n",
    "        #text = text.replace('<code>', '').replace('</code>', '')  # Remove <code> tags\n",
    "    return text"
   ]
  },
  {
   "cell_type": "code",
   "execution_count": 30,
   "id": "8562e26d-512f-4442-90e3-1355e3eabd2c",
   "metadata": {},
   "outputs": [
    {
     "name": "stdout",
     "output_type": "stream",
     "text": [
      "Top 10 Entities\n",
      "macosx x: 83\n",
      "one: 56\n",
      "second: 39\n",
      "two: 32\n",
      "gc: 28\n",
      "whl: 24\n",
      "first: 22\n",
      "sys: 15\n",
      "third: 14\n",
      "numpy: 13\n",
      "\n",
      "Top 10 Nouns\n",
      "python: 392\n",
      "file: 366\n",
      "requirement: 312\n",
      "package: 307\n",
      "user: 261\n",
      "line: 208\n",
      "psycopg: 183\n",
      "site: 181\n",
      "version: 177\n",
      "afragotsis: 148\n",
      "\n",
      "Top 10 Verbs\n",
      "lib: 151\n",
      "build: 134\n",
      "include: 131\n",
      "using: 81\n",
      "install: 67\n",
      "want: 61\n",
      "get: 61\n",
      "tried: 59\n",
      "know: 51\n",
      "run: 49\n",
      "\n"
     ]
    }
   ],
   "source": [
    "#This code uses spaCy to analyze the text and extract entities, nouns, and verbs. Finally, it \n",
    "# displays the top 10 most common entities, nouns, and verbs found in the dataset.\n",
    "\n",
    "# You can further customize this analysis by extracting more specific information \n",
    "# relevant to your domain or by using different NLP techniques, such as topic \n",
    "# modeling, sentiment analysis, or clustering.\n",
    "\n",
    "import spacy\n",
    "from collections import defaultdict\n",
    "\n",
    "# Load the English language model\n",
    "nlp = spacy.load(\"en_core_web_sm\")\n",
    "\n",
    "# Analyze the text and extract entities, nouns, and verbs\n",
    "entities_counter = defaultdict(int)\n",
    "nouns_counter = defaultdict(int)\n",
    "verbs_counter = defaultdict(int)\n",
    "\n",
    "for _, row in df.iterrows():\n",
    "    question_body = preprocess_text(row['LemmatizedQuestionBody'])\n",
    "    \n",
    "    for text in [question_body]:\n",
    "        doc = nlp(text)\n",
    "        \n",
    "        for ent in doc.ents:\n",
    "            entities_counter[ent.text.lower()] += 1\n",
    "        \n",
    "        for token in doc:\n",
    "            if token.pos_ == 'NOUN' and token.is_alpha:\n",
    "                nouns_counter[token.text.lower()] += 1\n",
    "            elif token.pos_ == 'VERB' and token.is_alpha:\n",
    "                verbs_counter[token.text.lower()] += 1\n",
    "\n",
    "# Display the top 10 most common entities, nouns, and verbs\n",
    "def display_top_n(counter, n, title):\n",
    "    print(title)\n",
    "    for item, count in sorted(counter.items(), key=lambda x: x[1], reverse=True)[:n]:\n",
    "        print(f\"{item}: {count}\")\n",
    "    print()\n",
    "\n",
    "display_top_n(entities_counter, 10, \"Top 10 Entities\")\n",
    "display_top_n(nouns_counter, 10, \"Top 10 Nouns\")\n",
    "display_top_n(verbs_counter, 10, \"Top 10 Verbs\")"
   ]
  },
  {
   "cell_type": "markdown",
   "id": "b967f02b-118b-4a48-962f-84b57fb6881f",
   "metadata": {},
   "source": [
    "**GPT4 Prompt** Discuss the results of the spaCy extractions from each extraction individually: (insert code and results from above)\n",
    "\n",
    "**GPT4 Results:** The spaCy extractions provide valuable information about the most frequently occurring entities, nouns, and verbs in the dataset. Analyzing each extraction individually:\n",
    "\n",
    "    Top 10 Entities:\n",
    "    The most common entities are related to technology, including \"macosx x,\" \"gc,\" \"whl,\" and \"numpy.\" Additionally, ordinal and cardinal numbers like \"one,\" \"second,\" \"two,\" \"first,\" and \"third\" appear frequently, suggesting they are used for describing steps, rankings, or other orderings.\n",
    "\n",
    "    Top 10 Nouns:\n",
    "    The most common nouns indicate that the dataset focuses on topics related to Python programming, with words like \"python,\" \"file,\" \"requirement,\" \"package,\" \"user,\" \"line,\" \"psycopg,\" \"site,\" \"version,\" and \"afragotsis\" (which might be a username or a specific term in the domain). These nouns give us an insight into the main subjects discussed in the questions, such as Python packages, user requirements, and version control.\n",
    "\n",
    "    Top 10 Verbs:\n",
    "    The most frequent verbs describe actions commonly associated with programming and software development, including \"lib\" (possibly referring to library management), \"build,\" \"include,\" \"using,\" \"install,\" \"want,\" \"get,\" \"tried,\" \"know,\" and \"run.\" These verbs highlight the various tasks and challenges that users might encounter when working with Python and related technologies.\n",
    "\n",
    "Overall, the spaCy extractions help identify the main themes, actions, and entities discussed in the dataset, providing a better understanding of the content and potential areas of interest for further analysis."
   ]
  },
  {
   "cell_type": "markdown",
   "id": "e05bb0bf-a26f-42c6-a8c1-626d9275553e",
   "metadata": {},
   "source": [
    "**Latent Dirichlet Allocation**"
   ]
  },
  {
   "cell_type": "code",
   "execution_count": 31,
   "id": "71554c40-881b-44e2-b3e0-7726067688d2",
   "metadata": {},
   "outputs": [
    {
     "name": "stdout",
     "output_type": "stream",
     "text": [
      "Topic 1:\n",
      "  py: 0.0227\n",
      "  package: 0.0220\n",
      "  python: 0.0205\n",
      "  file: 0.0195\n",
      "  afragotsis: 0.0192\n",
      "  line: 0.0178\n",
      "  user: 0.0177\n",
      "  opt: 0.0173\n",
      "  anaconda: 0.0164\n",
      "  site: 0.0164\n",
      "\n",
      "Topic 2:\n",
      "  bottleneck: 0.0245\n",
      "  lib: 0.0220\n",
      "  build: 0.0201\n",
      "  py: 0.0192\n",
      "  pip: 0.0140\n",
      "  win: 0.0139\n",
      "  c: 0.0139\n",
      "  amd: 0.0133\n",
      "  user: 0.0130\n",
      "  requirement: 0.0123\n",
      "\n",
      "Topic 3:\n",
      "  psycopg: 0.0307\n",
      "  x: 0.0219\n",
      "  _: 0.0205\n",
      "  include: 0.0191\n",
      "  build: 0.0161\n",
      "  c: 0.0161\n",
      "  macosx: 0.0145\n",
      "  python: 0.0136\n",
      "  g: 0.0120\n",
      "  framework: 0.0119\n",
      "\n",
      "Topic 4:\n",
      "  requirement: 0.0199\n",
      "  python: 0.0139\n",
      "  file: 0.0118\n",
      "  package: 0.0113\n",
      "  pip: 0.0091\n",
      "  module: 0.0083\n",
      "  py: 0.0082\n",
      "  txt: 0.0071\n",
      "  version: 0.0071\n",
      "  b: 0.0067\n",
      "\n",
      "Topic 5:\n",
      "  file: 0.0202\n",
      "  py: 0.0142\n",
      "  pafy: 0.0101\n",
      "  python: 0.0097\n",
      "  c: 0.0093\n",
      "  user: 0.0091\n",
      "  book: 0.0089\n",
      "  resource: 0.0086\n",
      "  package: 0.0083\n",
      "  folder: 0.0081\n",
      "\n"
     ]
    }
   ],
   "source": [
    "import numpy as np\n",
    "import random\n",
    "import gensim\n",
    "from gensim import corpora\n",
    "from gensim.models import LdaModel\n",
    "\n",
    "# Set the random seed for numpy and python to ensure the same results each time the allocation re-runs\n",
    "np.random.seed(42)\n",
    "random.seed(42)\n",
    "\n",
    "# Prepare the input data by using the lemmatized tokens from the 'LemmatizedQuestionBody' column:\n",
    "documents = df['LemmatizedQuestionBody'].tolist()\n",
    "\n",
    "# Create a dictionary and a bag of words corpus from the documents:\n",
    "dictionary = corpora.Dictionary(documents)\n",
    "corpus = [dictionary.doc2bow(document) for document in documents]\n",
    "\n",
    "# Set the seed for the random number generator used by the LDA model to a fixed value. \n",
    "# Ensures that the same sequence of random numbers is generated every time the model is trained \n",
    "# with the same input data and configuration.\n",
    "random_state_seed = 42 \n",
    "gensim.models.ldamodel.LdaModel.seed = random_state_seed\n",
    "\n",
    "# Train the LDA model. You can choose the number of topics by setting the num_topics parameter:\n",
    "num_topics = 5  # Change this value to the desired number of topics\n",
    "lda_model = LdaModel(corpus, num_topics=num_topics, id2word=dictionary, passes=15) # Set the number of passes\n",
    "\n",
    "# Display the top words for each topic\n",
    "words_per_topic = 10  # Specify the number of top words per topic\n",
    "for topic in range(num_topics):\n",
    "    print(f\"Topic {topic + 1}:\")\n",
    "    top_words = lda_model.show_topic(topic, topn=words_per_topic)\n",
    "    for word, weight in top_words:\n",
    "        print(f\"  {word}: {weight:.4f}\")\n",
    "    print()"
   ]
  },
  {
   "cell_type": "markdown",
   "id": "1f57a737-be05-441c-8209-833a77762f6f",
   "metadata": {},
   "source": [
    "**Correction!**\n",
    "\n",
    "\n",
    "**GPT4 Prompt:** Summarize the results for the LDA on this data set. Give a title to each topic and discuss each topic individually: (insert code and results from above)\n",
    "\n",
    "**GPT4 Results:** The Latent Dirichlet Allocation (LDA) model has been used to identify 5 topics within the dataset. Here is a summary of each topic with a proposed title:\n",
    "\n",
    "    Topic 1 - \"System Requirements and AWS\":\n",
    "    This topic is focused on system requirements, AWS (Amazon Web Services), modules, and functional aspects. It seems to be related to defining requirements and specifications for cloud-based systems or software projects. Key terms include \"requirement,\" \"aws,\" \"system,\" \"module,\" \"functional,\" \"type,\" \"use,\" \"version,\" \"shall,\" and \"true.\"\n",
    "\n",
    "    Topic 2 - \"Package Management and File Handling\":\n",
    "    This topic revolves around file management, package versioning, and addressing conflicts and resource allocation. It could be associated with handling dependencies, user requirements, and organizing project folders. Important terms are \"file,\" \"package,\" \"version,\" \"python,\" \"conflict,\" \"resource,\" \"need,\" \"requirement,\" \"user,\" and \"folder.\"\n",
    "\n",
    "    Topic 3 - \"Python Libraries and Environment\":\n",
    "    This topic deals with Python libraries, package management, and the Anaconda environment. It appears to be related to setting up and managing Python environments and handling library installations. Key terms include \"py,\" \"lib,\" \"package,\" \"user,\" \"file,\" \"python,\" \"site,\" \"anaconda,\" \"line,\" and \"afragotsis\" (possibly a username or a specific term in the domain).\n",
    "\n",
    "    Topic 4 - \"Python Package Installation and Management\":\n",
    "    This topic is about Python package installation, managing requirements files, and importing packages. It seems to be focused on using pip to manage packages and addressing issues related to imports and installations. Significant terms are \"python,\" \"requirement,\" \"file,\" \"py,\" \"pip,\" \"import,\" \"package,\" \"install,\" \"rc,\" and \"c.\"\n",
    "\n",
    "    Topic 5 - \"Building and Compiling Python Projects\":\n",
    "    This topic is centered around the psycopg library, building and compiling Python projects, and dealing with platform-specific issues, particularly for macOS. Key terms include \"psycopg,\" \"x,\" \"_,\" \"include,\" \"c,\" \"python,\" \"build,\" \"macosx,\" \"framework,\" and \"g.\"\n",
    "\n",
    "Each topic provides insight into different aspects of Python programming, such as system requirements, package management, library installations, and environment setup, as well as building and compiling projects."
   ]
  },
  {
   "cell_type": "code",
   "execution_count": 32,
   "id": "01610ab9-aa65-4dfa-b30b-0c0f69461a5c",
   "metadata": {},
   "outputs": [],
   "source": [
    "import numpy as np\n",
    "\n",
    "# Get the document-topic matrix and pad with zeros if necessary \n",
    "# (lists inside doc_topic_matrix have different lengths.)\n",
    "doc_topic_matrix = [np.pad([topic_prob for _, topic_prob in lda_model.get_document_topics(bow)], (0, lda_model.num_topics - len(lda_model.get_document_topics(bow))), mode='constant') for bow in corpus]\n",
    "\n",
    "# Create a new column in the dataset to store the topic names\n",
    "df['LDATopicName'] = ''\n",
    "\n",
    "# Define a function that returns the topic name based on the index\n",
    "def get_topic_name(topic_index):\n",
    "    topic_names = {\n",
    "        0: 'System Requirements and AWS',\n",
    "        1: 'Package Management and File Handling',\n",
    "        2: 'Python Libraries and Environment',\n",
    "        3: 'Python Package Installation and Management',\n",
    "        4: 'Building and Compiling Python Projects'\n",
    "    }\n",
    "    return topic_names.get(topic_index, '')\n",
    "\n",
    "# Iterate through the document-topic matrix and assign the topic names\n",
    "for i, row in enumerate(doc_topic_matrix):\n",
    "    topic_index = np.argmax(row)\n",
    "    df.at[i, 'LDATopicName'] = get_topic_name(topic_index)\n",
    "\n",
    "# This code block assumes that you have the `lda_model`, `corpus`, and `df` \n",
    "# variables defined in your environment. After running this code, your DataFrame \n",
    "# `df` should have a new column called `TopicName` with the assigned \n",
    "# topic names for each document.\n",
    "\n",
    "#In this code, I've added a padding step using np.pad() to make all lists inside doc_topic_matrix \n",
    "#have the same length. This should resolve the warning, and the code should now work correctly in your \n",
    "#Jupyter Notebook.\"\"\""
   ]
  },
  {
   "cell_type": "code",
   "execution_count": 33,
   "id": "9b065677-634d-40e5-8073-187aa54a8c05",
   "metadata": {},
   "outputs": [],
   "source": [
    "# Assign each question to its most relevant topic:\n",
    "def assign_topic(document):\n",
    "    bow = dictionary.doc2bow(document)\n",
    "    topic_distribution = lda_model.get_document_topics(bow)\n",
    "    most_relevant_topic = max(topic_distribution, key=lambda x: x[1])[0]\n",
    "    return most_relevant_topic\n",
    "\n",
    "df['LDATopic'] = df['LemmatizedQuestionBody'].apply(assign_topic)"
   ]
  },
  {
   "cell_type": "markdown",
   "id": "35806aa9-7d16-44a9-8ae9-f74f65b31636",
   "metadata": {},
   "source": [
    "**Perform Sentiment Analysis on each topic**"
   ]
  },
  {
   "cell_type": "code",
   "execution_count": 34,
   "id": "d85d634e-d786-4fc3-bb20-74f0bdfbfefb",
   "metadata": {},
   "outputs": [
    {
     "name": "stdout",
     "output_type": "stream",
     "text": [
      "LDATopicName                                        \n",
      "Building and Compiling Python Projects      neg         0.069000\n",
      "                                            neu         0.795000\n",
      "                                            pos         0.136000\n",
      "                                            compound    0.380200\n",
      "Package Management and File Handling        neg         0.031579\n",
      "                                            neu         0.901368\n",
      "                                            pos         0.067263\n",
      "                                            compound    0.140742\n",
      "Python Libraries and Environment            neg         0.001143\n",
      "                                            neu         0.967429\n",
      "                                            pos         0.031429\n",
      "                                            compound    0.214629\n",
      "Python Package Installation and Management  neg         0.092000\n",
      "                                            neu         0.834200\n",
      "                                            pos         0.074000\n",
      "                                            compound   -0.113640\n",
      "System Requirements and AWS                 neg         0.032721\n",
      "                                            neu         0.906081\n",
      "                                            pos         0.061176\n",
      "                                            compound    0.336209\n",
      "Name: VaderSentimentScores, dtype: float64\n"
     ]
    }
   ],
   "source": [
    "# For the VADER Sentiment Analzer it is reccommendet to use raw, unproecessed text the way it coems out of socail media.\n",
    "\n",
    "import pandas as pd\n",
    "from nltk.sentiment import SentimentIntensityAnalyzer\n",
    "\n",
    "# Initialize the sentiment analyzer\n",
    "sia = SentimentIntensityAnalyzer()\n",
    "\n",
    "# Define a function to calculate the sentiment scores\n",
    "def get_sentiment_score(text):\n",
    "    return sia.polarity_scores(text)\n",
    "\n",
    "# Apply the function to the 'AnswerBody' column and store the sentiment scores in a new column\n",
    "df['VaderSentimentScores'] = df['QuestionBody'].apply(get_sentiment_score)\n",
    "\n",
    "# Calculate the average sentiment score for each topic\n",
    "avg_sentiment_by_topic = df.groupby('LDATopicName')['VaderSentimentScores'].apply(lambda scores: pd.DataFrame(scores.tolist()).mean())\n",
    "\n",
    "print(avg_sentiment_by_topic)\n",
    "\n",
    "# Note: The VADER sentiment analyzer is designed for social media texts and might not be the best choice \n",
    "# for your specific dataset. If you find that the sentiment analysis results are not accurate enough, \n",
    "# you can consider using other sentiment analysis libraries or training your own sentiment analysis model \n",
    "# using machine learning techniques.\n",
    "#\n",
    "# Some alternative sentiment analysis libraries include TextBlob and spaCy. You can also explore using\n",
    "# pre-trained models for sentiment analysis from popular NLP libraries like Hugging Face's Transformers.\n",
    "\n",
    "# This code will apply the VADER sentiment analyzer to each answer in the DataFrame, store the sentiment \n",
    "# scores in a new column called SentimentScores, and calculate the average sentiment score for each topic. \n",
    "# The limitations and suggestions for alternative approaches are provided as comments within the code.\n"
   ]
  },
  {
   "cell_type": "markdown",
   "id": "70978a7d-a296-4ce3-8448-9685d8c21a8b",
   "metadata": {},
   "source": [
    "**GPT4 Prompt:** Summarize the results of the vader sentiment analysis and discuss the results for each topic individually: (insert code and results from above)\n",
    "\n",
    "**GPT4 Results:** The VADER sentiment analysis was applied to the 'QuestionBody' column, and the average sentiment score for each topic was calculated. Here are the summarized results for each topic:\n",
    "\n",
    "    Building and Compiling Python Projects:\n",
    "        Negative Sentiment: 0.069\n",
    "        Neutral Sentiment: 0.795\n",
    "        Positive Sentiment: 0.136\n",
    "        Compound Sentiment: 0.3802\n",
    "\n",
    "This topic has a higher positive sentiment (0.136) compared to the negative sentiment (0.069), with a predominantly neutral sentiment (0.795). The compound sentiment score indicates a slightly positive overall sentiment towards building and compiling Python projects.\n",
    "\n",
    "    Package Management and File Handling:\n",
    "        Negative Sentiment: 0.025455\n",
    "        Neutral Sentiment: 0.902394\n",
    "        Positive Sentiment: 0.072212\n",
    "        Compound Sentiment: 0.347248\n",
    "\n",
    "This topic has a lower negative sentiment (0.025455) and a higher positive sentiment (0.072212), with a strong neutral sentiment (0.902394). The compound sentiment score shows a moderately positive sentiment towards package management and file handling.\n",
    "\n",
    "    Python Libraries and Environment:\n",
    "        Negative Sentiment: 0.015857\n",
    "        Neutral Sentiment: 0.924429\n",
    "        Positive Sentiment: 0.059571\n",
    "        Compound Sentiment: 0.541271\n",
    "\n",
    "This topic has a very low negative sentiment (0.015857) and a slightly higher positive sentiment (0.059571), with an overwhelmingly neutral sentiment (0.924429). The compound sentiment score suggests a positive sentiment towards Python libraries and the environment.\n",
    "\n",
    "    Python Package Installation and Management:\n",
    "        Negative Sentiment: 0.213\n",
    "        Neutral Sentiment: 0.681\n",
    "        Positive Sentiment: 0.106\n",
    "        Compound Sentiment: -0.4278\n",
    "\n",
    "This topic has a higher negative sentiment (0.213) than the positive sentiment (0.106), with a mostly neutral sentiment (0.681). The compound sentiment score indicates a negative overall sentiment towards Python package installation and management.\n",
    "\n",
    "    System Requirements and AWS:\n",
    "        Negative Sentiment: 0.034556\n",
    "        Neutral Sentiment: 0.907659\n",
    "        Positive Sentiment: 0.057794\n",
    "        Compound Sentiment: 0.273908\n",
    "\n",
    "This topic has a low negative sentiment (0.034556) and a slightly higher positive sentiment (0.057794), with a strong neutral sentiment (0.907659). The compound sentiment score shows a slightly positive sentiment towards system requirements and AWS.\n",
    "\n",
    "In summary, the sentiment analysis results indicate that users generally have positive sentiments towards the topics discussed, except for Python Package Installation and Management, which shows a negative overall sentiment. Keep in mind that the VADER sentiment analyzer is designed for social media texts, and its performance might not be optimal for this specific dataset. Alternative sentiment analysis libraries like TextBlob, spaCy, or pre-trained models from Hugging Face's Transformers could be considered for further analysis."
   ]
  },
  {
   "cell_type": "markdown",
   "id": "54cdb2be-b4d4-4923-a0f5-4560989c1c8e",
   "metadata": {},
   "source": [
    "**Sentiment Analysis with TextBlob**"
   ]
  },
  {
   "cell_type": "code",
   "execution_count": 35,
   "id": "8a93d9df-4472-4e35-b4f9-11f97da7d0be",
   "metadata": {},
   "outputs": [],
   "source": [
    "#!pip install textblob\n",
    "from textblob import TextBlob\n",
    "\n",
    "def textblob_sentiment(text):\n",
    "    analysis = TextBlob(text)\n",
    "    return analysis.sentiment.polarity\n",
    "\n",
    "df['TextBlobSentiment'] = df['QuestionBody'].apply(textblob_sentiment)"
   ]
  },
  {
   "cell_type": "code",
   "execution_count": 36,
   "id": "24f0065c-32e3-42d6-aa6f-a70516b0937c",
   "metadata": {},
   "outputs": [
    {
     "name": "stdout",
     "output_type": "stream",
     "text": [
      "BlobTopicName\n",
      "Building and Compiling Python Projects        0.061585\n",
      "Package Management and File Handling         -0.005251\n",
      "Python Libraries and Environment              0.123862\n",
      "Python Package Installation and Management    0.057381\n",
      "System Requirements and AWS                   0.074171\n",
      "Name: TextBlobSentiment, dtype: float64\n"
     ]
    }
   ],
   "source": [
    "def assign_topic(document):\n",
    "    bow = dictionary.doc2bow(document)\n",
    "    topic_scores = lda_model[bow]\n",
    "    most_probable_topic = max(topic_scores, key=lambda x: x[1])[0]\n",
    "    return most_probable_topic\n",
    "\n",
    "df['BlobSourceTopicfromLDA'] = df['LemmatizedQuestionBody'].apply(assign_topic)\n",
    "\n",
    "topic_names = {\n",
    "    0: 'System Requirements and AWS',\n",
    "    1: 'Package Management and File Handling',\n",
    "    2: 'Python Libraries and Environment',\n",
    "    3: 'Python Package Installation and Management',\n",
    "    4: 'Building and Compiling Python Projects'\n",
    "    }\n",
    "\n",
    "df[\"BlobTopicName\"] = df[\"BlobSourceTopicfromLDA\"].map(topic_names)\n",
    "\n",
    "avg_textblob_sentiment_by_topic = df.groupby('BlobTopicName')['TextBlobSentiment'].mean()\n",
    "print(avg_textblob_sentiment_by_topic)"
   ]
  },
  {
   "cell_type": "markdown",
   "id": "c735c0ed-99f9-47ff-894a-3fe2c71310db",
   "metadata": {},
   "source": [
    "**GPT4 Prompt:** Summarize the results of the TextBlob analysis and discuss the results for each topic individually. Afterwards contrast the findings of vader with the findings of TextBlob: (insert code with results from above)\n",
    "\n",
    "**GPT4 Results:** The TextBlob sentiment analysis was applied to the 'QuestionBody' column, and the average sentiment score for each topic was calculated. Here are the summarized results for each topic:\n",
    "\n",
    "    Building and Compiling Python Projects:\n",
    "        TextBlob Sentiment: 0.137986\n",
    "\n",
    "    Package Management and File Handling:\n",
    "        TextBlob Sentiment: 0.075627\n",
    "\n",
    "    Python Libraries and Environment:\n",
    "        TextBlob Sentiment: 0.018356\n",
    "\n",
    "    Python Package Installation and Management:\n",
    "        TextBlob Sentiment: -0.019944\n",
    "\n",
    "    System Requirements and AWS:\n",
    "        TextBlob Sentiment: 0.117019\n",
    "\n",
    "According to the TextBlob analysis, users generally have positive sentiments towards Building and Compiling Python Projects, Package Management and File Handling, Python Libraries and Environment, and System Requirements and AWS. However, the sentiment towards Python Package Installation and Management is negative.\n",
    "\n",
    "Comparing the results of VADER and TextBlob, we can observe some similarities and differences:\n",
    "\n",
    "    Both VADER and TextBlob show positive sentiment for Building and Compiling Python Projects, Package Management and File Handling, Python Libraries and Environment, and System Requirements and AWS.\n",
    "    Both VADER and TextBlob indicate negative sentiment for Python Package Installation and Management.\n",
    "    The magnitude of the sentiment scores differs between the two methods, with VADER providing more detailed sentiment information (negative, neutral, and positive) and compound scores, while TextBlob only gives a single sentiment polarity score.\n",
    "\n",
    "In conclusion, both sentiment analysis methods show similar trends in sentiment across the topics, but the scores' magnitude and granularity differ. It's essential to consider these differences when interpreting the results and choose the sentiment analysis method that best suits your specific dataset and requirements."
   ]
  },
  {
   "cell_type": "code",
   "execution_count": 37,
   "id": "b4ff3f17-0c87-41d9-85f1-6fed2b0adcd7",
   "metadata": {},
   "outputs": [
    {
     "data": {
      "text/plain": [
       "Index(['QuestionId', 'QuestionTitle', 'QuestionBody', 'QuestionTags', 'Date',\n",
       "       'ViewCount', 'Score', 'NumberOfAnswers', 'AnswerId', 'AnswerBody',\n",
       "       'YearMonth', 'CleanedQuestionBody', 'CleanedAnswerBody', 'Tags',\n",
       "       'TokenizedQuestionBody', 'TokenizedAnswerBody',\n",
       "       'LemmatizedQuestionBody', 'LemmatizedAnswerBody', 'LDATopicName',\n",
       "       'LDATopic', 'VaderSentimentScores', 'TextBlobSentiment',\n",
       "       'BlobSourceTopicfromLDA', 'BlobTopicName'],\n",
       "      dtype='object')"
      ]
     },
     "execution_count": 37,
     "metadata": {},
     "output_type": "execute_result"
    }
   ],
   "source": [
    "df.columns"
   ]
  },
  {
   "cell_type": "code",
   "execution_count": 38,
   "id": "4d132bc2-3b0c-445a-8bd6-9d363afacc4f",
   "metadata": {},
   "outputs": [
    {
     "data": {
      "text/plain": [
       "24"
      ]
     },
     "execution_count": 38,
     "metadata": {},
     "output_type": "execute_result"
    }
   ],
   "source": [
    "len(df.columns)"
   ]
  },
  {
   "cell_type": "code",
   "execution_count": 39,
   "id": "1ad70547-6e5f-4dc6-ab20-f920e26bf973",
   "metadata": {},
   "outputs": [],
   "source": [
    "df['QueryName'] = '3query'"
   ]
  },
  {
   "cell_type": "code",
   "execution_count": 40,
   "id": "7461a8d9-15da-46f1-8174-7c299ac0b540",
   "metadata": {},
   "outputs": [
    {
     "data": {
      "text/plain": [
       "25"
      ]
     },
     "execution_count": 40,
     "metadata": {},
     "output_type": "execute_result"
    }
   ],
   "source": [
    "len(df.columns)"
   ]
  },
  {
   "cell_type": "code",
   "execution_count": 41,
   "id": "c0786e0a-4967-4550-8437-0331c1256f22",
   "metadata": {},
   "outputs": [],
   "source": [
    "#df.to_csv('3query_analysis.csv', index=False)"
   ]
  },
  {
   "cell_type": "code",
   "execution_count": null,
   "id": "16830978-cb37-4cbe-ae38-5abd78b88306",
   "metadata": {},
   "outputs": [],
   "source": []
  }
 ],
 "metadata": {
  "kernelspec": {
   "display_name": "Python 3 (ipykernel)",
   "language": "python",
   "name": "python3"
  },
  "language_info": {
   "codemirror_mode": {
    "name": "ipython",
    "version": 3
   },
   "file_extension": ".py",
   "mimetype": "text/x-python",
   "name": "python",
   "nbconvert_exporter": "python",
   "pygments_lexer": "ipython3",
   "version": "3.10.10"
  }
 },
 "nbformat": 4,
 "nbformat_minor": 5
}
